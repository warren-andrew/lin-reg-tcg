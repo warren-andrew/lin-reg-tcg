{
 "cells": [
  {
   "cell_type": "code",
   "execution_count": 2,
   "metadata": {},
   "outputs": [],
   "source": [
    "from collections import defaultdict\n",
    "import numpy as np\n",
    "import pandas as pd\n",
    "\n",
    "pd.set_option(\"max_colwidth\", 75)"
   ]
  },
  {
   "cell_type": "code",
   "execution_count": 101,
   "metadata": {},
   "outputs": [],
   "source": [
    "# need to import all_cards _reg from previous data set\n",
    "pd.set_option(\"max_colwidth\", 150)\n",
    "\n",
    "cards_w_abilities = all_cards_reg[(all_cards_reg['Description'].str.contains(\":\")== True)&(all_cards_reg['Description'].str.contains(\"EX BURST\") != True)].drop_duplicates(subset=['Description'])[['Description','URL']]\n",
    "\n",
    "# cards_w_abilities['Description'].str.extract(\"(\\[[a-zA-Z1-9]+\\]):\",expand=False)\n",
    "cards_w_abilities['Ability Cost'] = ('\\n'+cards_w_abilities['Description']).str.extract(\"\\n(.+)(?=:)\",expand=False)\n",
    "cards_w_abilities.drop_duplicates(subset=['Ability Cost']).to_csv('cards w abilities.csv')\n",
    "# cards_w_abilities['Ability Cost'] = cards_w_abilities['Description'].str.extract(\"((?:[[a-zA-Z0-9]+\\])+)\\s?(?=:)\",expand=False)\n",
    "# eda = cards_w_abilities[(cards_w_abilities['Ability Cost'].isna())]\n",
    "# eda[eda['URL']=='https://shop.tcgplayer.com/final-fantasy-tcg/opus-xii/blaze-ex']\n",
    "# put_df = eda.copy()[~cards_w_abilities['Description'].str.contains('EX BURST')]\n",
    "# put_df['Text before :'] = put_df['Description'].str.extract(\"(?:[[a-zA-Z0-9]+\\])+((?:.+)?)(?=:)\",expand=False)\n",
    "# put_df[put_df['Text before :'].str.contains('(?:[Pp]ut)|(?:[Rr]eturn)|(?:[Rr]emove)|(?:[Dd]iscard)')!=True]"
   ]
  }
 ],
 "metadata": {
  "kernelspec": {
   "display_name": "Python 3",
   "language": "python",
   "name": "python3"
  },
  "language_info": {
   "codemirror_mode": {
    "name": "ipython",
    "version": 3
   },
   "file_extension": ".py",
   "mimetype": "text/x-python",
   "name": "python",
   "nbconvert_exporter": "python",
   "pygments_lexer": "ipython3",
   "version": "3.7.4"
  }
 },
 "nbformat": 4,
 "nbformat_minor": 2
}
