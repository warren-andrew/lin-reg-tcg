{
 "cells": [
  {
   "cell_type": "code",
   "execution_count": 1,
   "metadata": {},
   "outputs": [],
   "source": [
    "from collections import defaultdict\n",
    "import numpy as np\n",
    "import pandas as pd\n",
    "from bs4 import BeautifulSoup\n",
    "import requests\n",
    "import time, os\n",
    "from selenium import webdriver\n",
    "from selenium.webdriver.common.keys import Keys\n",
    "from selenium.webdriver.common.by import By\n",
    "from selenium.webdriver.support.ui import WebDriverWait\n",
    "from selenium.webdriver.support.ui import Select\n",
    "from selenium.webdriver.support import expected_conditions as EC\n",
    "from webdriver_manager.chrome import ChromeDriverManager "
   ]
  },
  {
   "cell_type": "markdown",
   "metadata": {},
   "source": [
    "# Programs\n",
    "Retrieve card names and generate input of URLs to scrape"
   ]
  },
  {
   "cell_type": "code",
   "execution_count": 2,
   "metadata": {},
   "outputs": [],
   "source": [
    "def retrieve_name_url(card_table):\n",
    "    \"\"\"\n",
    "    take in a table from the website https://shop.tcgplayer.com/price-guide/final-fantasy-tcg/\n",
    "    with the class attribute \"priceGuideTable tablesorter\"\n",
    "    and outputs a DataFrame of the names of cards in the table and a link to their description\n",
    "    \"\"\"\n",
    "    card_names = []\n",
    "    url_inputs = []\n",
    "\n",
    "    for row in card_table.tbody.find_all('tr'):\n",
    "        name_div = row.td.find('div',class_='productDetail')\n",
    "        card_name = name_div.get_text().strip('\\n')\n",
    "        url_input = name_div.a.attrs['href']\n",
    "\n",
    "        card_names.append(card_name)\n",
    "        url_inputs.append(url_input)\n",
    "\n",
    "    url_df = pd.DataFrame()\n",
    "    url_df['name'] = pd.Series(card_names)\n",
    "    url_df['url_inputs'] = pd.Series(url_inputs)\n",
    "    return url_df"
   ]
  },
  {
   "cell_type": "markdown",
   "metadata": {},
   "source": [
    "Sub function to retrieve prices from price table in the URL of the trading card"
   ]
  },
  {
   "cell_type": "code",
   "execution_count": 3,
   "metadata": {},
   "outputs": [],
   "source": [
    "def retrieve_prices(soup,row_data):\n",
    "    \"\"\"\n",
    "    takes in a Beautiful Soup from a TCGPlayer card page\n",
    "    and an existing dictionary of row data\n",
    "    then identifies the table of prices\n",
    "    and updates the dictionary with the price information included\n",
    "    \"\"\"\n",
    "    \n",
    "    mkt_price_table = soup.find('div',class_=\"price-point price-point--market\").table\n",
    "    mid_price_table = soup.find('div',class_=\"price-point price-point--listed-median\").table\n",
    "\n",
    "    for i in range(len(mkt_price_table.find_all('td'))):\n",
    "        data = mkt_price_table.find_all('td')\n",
    "        headers = mkt_price_table.find_all('th')[1:]\n",
    "        var_name = \"TCG\" + headers[i].get_text()\n",
    "        row_data[var_name] = data[i].get_text().strip(\"$\")\n",
    "\n",
    "    for i in range(len(mid_price_table.find_all('td'))):\n",
    "        data = mid_price_table.find_all('td')\n",
    "        headers = mid_price_table.find_all('th')[1:]\n",
    "        var_name = \"Median\" + headers[i].get_text()\n",
    "        row_data[var_name] = data[i].get_text().strip(\"$\")\n",
    "    \n",
    "    return row_data\n"
   ]
  },
  {
   "cell_type": "markdown",
   "metadata": {},
   "source": [
    "Scrape Card Data from each URL"
   ]
  },
  {
   "cell_type": "code",
   "execution_count": 4,
   "metadata": {},
   "outputs": [],
   "source": [
    "def scrape_card_data(url_df):\n",
    "    \"\"\"\n",
    "    Takes in a DataFrame of card names and their associated URLs for a FF TCG set\n",
    "    and returns a DataFrame of the resulting card's attributes for each card \n",
    "    \"\"\"\n",
    "    data_dict = defaultdict(dict)\n",
    "    for i, row in url_df.iterrows():\n",
    "        url = row['url_inputs']\n",
    "        name = row['name']\n",
    "        response = requests.get(url)\n",
    "        if response.status_code == 200:\n",
    "            page = response.text\n",
    "            soup = BeautifulSoup(page)\n",
    "            info_table = soup.find('table',class_='table')\n",
    "\n",
    "            list_of_dts = info_table.find_all('dt')\n",
    "            list_of_dds = info_table.find_all('dd')\n",
    "\n",
    "            row_data = defaultdict(str)\n",
    "            \n",
    "            for i in range(len(list_of_dts)):\n",
    "                var = list_of_dts[i].get_text().strip(\":\")\n",
    "                value = list_of_dds[i].get_text()\n",
    "                row_data[var] = value\n",
    "                \n",
    "            row_data['URL'] = url\n",
    "            \n",
    "            row_data = retrieve_prices(soup,row_data)\n",
    "    \n",
    "            data_dict[name] = row_data\n",
    "    card_df = pd.DataFrame.from_dict(data_dict,orient='index').reset_index()\n",
    "    card_df = card_df.rename(columns={'index':'Name'})\n",
    "    card_df['id'] = card_df.index\n",
    "    card_df = pd.wide_to_long(card_df,stubnames=['TCG','Median'],i='id',j='Card Material',suffix=\"\\\\S+\")\n",
    "    card_df = card_df.reset_index(level='Card Material')\n",
    "\n",
    "    return card_df.sort_values(by=['Name','Card Material'],ascending=[True,False]).reset_index(drop=True)"
   ]
  },
  {
   "cell_type": "markdown",
   "metadata": {},
   "source": [
    "# Main Webscraping Code"
   ]
  },
  {
   "cell_type": "markdown",
   "metadata": {},
   "source": [
    "#### Set up web driver"
   ]
  },
  {
   "cell_type": "code",
   "execution_count": 5,
   "metadata": {},
   "outputs": [],
   "source": [
    "chromedriver = \"C:\\\\Users\\\\wlee\\\\.wdm\\\\drivers\\\\chromedriver\\\\87.0.4280.88\\\\win32\\\\chromedriver.exe\" # path to the chromedriver executable\n",
    "os.environ[\"webdriver.chrome.driver\"] = chromedriver"
   ]
  },
  {
   "cell_type": "markdown",
   "metadata": {},
   "source": [
    "#### Open browser and retrieve HTML"
   ]
  },
  {
   "cell_type": "code",
   "execution_count": 6,
   "metadata": {},
   "outputs": [],
   "source": [
    "ref_browser =webdriver.Chrome(chromedriver)\n",
    "\n",
    "url = \"https://shop.tcgplayer.com/price-guide/final-fantasy-tcg\"\n",
    "ref_browser.get(url)\n",
    "\n",
    "ref_HTML = ref_browser.execute_script(\"return document.body.innerHTML\")\n",
    "ref_soup = BeautifulSoup(ref_HTML,'html.parser')"
   ]
  },
  {
   "cell_type": "markdown",
   "metadata": {},
   "source": [
    "#### Retrieve available card sets for FF TCG from drop-down menu"
   ]
  },
  {
   "cell_type": "code",
   "execution_count": 7,
   "metadata": {},
   "outputs": [
    {
     "name": "stdout",
     "output_type": "stream",
     "text": [
      "['Opus XII', 'Opus XI', 'Opus X', 'Opus IX', 'Opus VIII']\n"
     ]
    }
   ],
   "source": [
    "set_names = []\n",
    "\n",
    "for value in ref_soup.find(\"select\",id=\"set\").find_all('option'):\n",
    "    set_names.append(value.get_text())\n",
    "print(set_names[:5])"
   ]
  },
  {
   "cell_type": "markdown",
   "metadata": {},
   "source": [
    "#### Let the scrape begin!\n",
    "Selenium will loop through each set from the Set drop down menu of the website and begin scraping TCGPlayer.com information for each of the cards for each set. The resulting DataFrame will be named _all_cards_."
   ]
  },
  {
   "cell_type": "code",
   "execution_count": 8,
   "metadata": {},
   "outputs": [],
   "source": [
    "all_cards = pd.DataFrame()\n",
    "\n",
    "for set_name in set_names:\n",
    "    select = Select(ref_browser.find_element_by_id(\"set\"))\n",
    "    select.select_by_visible_text(set_name)\n",
    "    \n",
    "    ref_HTML = ref_browser.execute_script(\"return document.body.innerHTML\")\n",
    "    ref_soup = BeautifulSoup(ref_HTML,'html.parser')\n",
    "    \n",
    "    card_table = ref_soup.find('table',class_='priceGuideTable tablesorter')\n",
    "    url_df = retrieve_name_url(card_table)\n",
    "    card_df = scrape_card_data(url_df)\n",
    "    card_df['set'] = set_name\n",
    "    all_cards = all_cards.append(card_df, sort = True)\n",
    "\n",
    "all_cards = all_cards.reset_index().drop(columns='index')"
   ]
  },
  {
   "cell_type": "code",
   "execution_count": 9,
   "metadata": {},
   "outputs": [
    {
     "data": {
      "text/plain": [
       "Fire               642\n",
       "Earth              634\n",
       "Wind               633\n",
       "Lightning          621\n",
       "Ice                606\n",
       "Water              604\n",
       "Light               76\n",
       "Dark                66\n",
       "Earth;Lightning      8\n",
       "Fire;Ice             8\n",
       "Earth;Wind           6\n",
       "Fire;Water           6\n",
       "Lightning;Water      6\n",
       "Ice;Wind             4\n",
       "Water;Wind           2\n",
       "Name: Element, dtype: int64"
      ]
     },
     "execution_count": 9,
     "metadata": {},
     "output_type": "execute_result"
    }
   ],
   "source": [
    "all_cards['Element'].value_counts()"
   ]
  },
  {
   "cell_type": "code",
   "execution_count": null,
   "metadata": {},
   "outputs": [],
   "source": [
    "all_cards.sample(n=5)"
   ]
  },
  {
   "cell_type": "code",
   "execution_count": 12,
   "metadata": {},
   "outputs": [],
   "source": [
    "all_cards.to_csv(\"card_information.csv\", index=False)"
   ]
  },
  {
   "cell_type": "code",
   "execution_count": 13,
   "metadata": {},
   "outputs": [],
   "source": [
    "ref_browser.close()"
   ]
  },
  {
   "cell_type": "markdown",
   "metadata": {},
   "source": [
    "## Program Testing"
   ]
  },
  {
   "cell_type": "code",
   "execution_count": 179,
   "metadata": {},
   "outputs": [
    {
     "data": {
      "text/html": [
       "<div>\n",
       "<style scoped>\n",
       "    .dataframe tbody tr th:only-of-type {\n",
       "        vertical-align: middle;\n",
       "    }\n",
       "\n",
       "    .dataframe tbody tr th {\n",
       "        vertical-align: top;\n",
       "    }\n",
       "\n",
       "    .dataframe thead th {\n",
       "        text-align: right;\n",
       "    }\n",
       "</style>\n",
       "<table border=\"1\" class=\"dataframe\">\n",
       "  <thead>\n",
       "    <tr style=\"text-align: right;\">\n",
       "      <th></th>\n",
       "      <th>name</th>\n",
       "      <th>url_inputs</th>\n",
       "    </tr>\n",
       "  </thead>\n",
       "  <tbody>\n",
       "    <tr>\n",
       "      <td>0</td>\n",
       "      <td>Aerith (Common) - 1-065C</td>\n",
       "      <td>https://shop.tcgplayer.com/final-fantasy-tcg/d...</td>\n",
       "    </tr>\n",
       "    <tr>\n",
       "      <td>1</td>\n",
       "      <td>Amarant - 3-013R</td>\n",
       "      <td>https://shop.tcgplayer.com/final-fantasy-tcg/d...</td>\n",
       "    </tr>\n",
       "    <tr>\n",
       "      <td>2</td>\n",
       "      <td>Amon - 2-098L</td>\n",
       "      <td>https://shop.tcgplayer.com/final-fantasy-tcg/d...</td>\n",
       "    </tr>\n",
       "    <tr>\n",
       "      <td>3</td>\n",
       "      <td>Archer (Male Unit) - 1-088C</td>\n",
       "      <td>https://shop.tcgplayer.com/final-fantasy-tcg/d...</td>\n",
       "    </tr>\n",
       "    <tr>\n",
       "      <td>4</td>\n",
       "      <td>Arecia Al-Rashia - 3-097R</td>\n",
       "      <td>https://shop.tcgplayer.com/final-fantasy-tcg/d...</td>\n",
       "    </tr>\n",
       "  </tbody>\n",
       "</table>\n",
       "</div>"
      ],
      "text/plain": [
       "                          name  \\\n",
       "0     Aerith (Common) - 1-065C   \n",
       "1             Amarant - 3-013R   \n",
       "2                Amon - 2-098L   \n",
       "3  Archer (Male Unit) - 1-088C   \n",
       "4    Arecia Al-Rashia - 3-097R   \n",
       "\n",
       "                                          url_inputs  \n",
       "0  https://shop.tcgplayer.com/final-fantasy-tcg/d...  \n",
       "1  https://shop.tcgplayer.com/final-fantasy-tcg/d...  \n",
       "2  https://shop.tcgplayer.com/final-fantasy-tcg/d...  \n",
       "3  https://shop.tcgplayer.com/final-fantasy-tcg/d...  \n",
       "4  https://shop.tcgplayer.com/final-fantasy-tcg/d...  "
      ]
     },
     "execution_count": 179,
     "metadata": {},
     "output_type": "execute_result"
    }
   ],
   "source": [
    "test_browser =webdriver.Chrome(chromedriver)\n",
    "\n",
    "url = \"https://shop.tcgplayer.com/price-guide/final-fantasy-tcg/deck-exclusive-cards\"\n",
    "test_browser.get(url)\n",
    "\n",
    "test_HTML = test_browser.execute_script(\"return document.body.innerHTML\")\n",
    "test_soup = BeautifulSoup(test_HTML,'html.parser')\n",
    "\n",
    "card_table = test_soup.find('table', class_=\"priceGuideTable tablesorter\")\n",
    "\n",
    "# retrieve_name_url called here\n",
    "url_df = retrieve_name_url(card_table)\n",
    "test_browser.close()\n",
    "url_df.head()"
   ]
  },
  {
   "cell_type": "code",
   "execution_count": 180,
   "metadata": {
    "scrolled": true
   },
   "outputs": [
    {
     "data": {
      "text/html": [
       "<div>\n",
       "<style scoped>\n",
       "    .dataframe tbody tr th:only-of-type {\n",
       "        vertical-align: middle;\n",
       "    }\n",
       "\n",
       "    .dataframe tbody tr th {\n",
       "        vertical-align: top;\n",
       "    }\n",
       "\n",
       "    .dataframe thead th {\n",
       "        text-align: right;\n",
       "    }\n",
       "</style>\n",
       "<table border=\"1\" class=\"dataframe\">\n",
       "  <thead>\n",
       "    <tr style=\"text-align: right;\">\n",
       "      <th></th>\n",
       "      <th>Card Material</th>\n",
       "      <th>Element</th>\n",
       "      <th>Job</th>\n",
       "      <th>Cost</th>\n",
       "      <th>Name</th>\n",
       "      <th>Number</th>\n",
       "      <th>Description</th>\n",
       "      <th>Card Type</th>\n",
       "      <th>Rarity</th>\n",
       "      <th>Category</th>\n",
       "      <th>URL</th>\n",
       "      <th>Power</th>\n",
       "      <th>TCG</th>\n",
       "      <th>Median</th>\n",
       "    </tr>\n",
       "  </thead>\n",
       "  <tbody>\n",
       "    <tr>\n",
       "      <td>0</td>\n",
       "      <td>Normal</td>\n",
       "      <td>NaN</td>\n",
       "      <td>NaN</td>\n",
       "      <td>NaN</td>\n",
       "      <td>Steiner EX - 3-137R</td>\n",
       "      <td>3-137R</td>\n",
       "      <td>EX BURST When Steiner enters the field, you ma...</td>\n",
       "      <td>NaN</td>\n",
       "      <td>Rare</td>\n",
       "      <td>NaN</td>\n",
       "      <td>https://shop.tcgplayer.com/final-fantasy-tcg/d...</td>\n",
       "      <td>NaN</td>\n",
       "      <td>0.25</td>\n",
       "      <td>0.25</td>\n",
       "    </tr>\n",
       "    <tr>\n",
       "      <td>1</td>\n",
       "      <td>Normal</td>\n",
       "      <td>Ice</td>\n",
       "      <td>Standard Unit</td>\n",
       "      <td>1</td>\n",
       "      <td>Summoner (Female Unit) - 1-040C</td>\n",
       "      <td>1-040C</td>\n",
       "      <td>This card was reprinted with a new formatted s...</td>\n",
       "      <td>Backup</td>\n",
       "      <td>Common</td>\n",
       "      <td>FFT</td>\n",
       "      <td>https://shop.tcgplayer.com/final-fantasy-tcg/d...</td>\n",
       "      <td>NaN</td>\n",
       "      <td>0.65</td>\n",
       "      <td>0.65</td>\n",
       "    </tr>\n",
       "    <tr>\n",
       "      <td>2</td>\n",
       "      <td>Normal</td>\n",
       "      <td>Lightning</td>\n",
       "      <td>Standard Unit</td>\n",
       "      <td>1</td>\n",
       "      <td>Summoner (Male Unit) - 1-138C</td>\n",
       "      <td>1-138C</td>\n",
       "      <td>This card was reprinted with a new formatted s...</td>\n",
       "      <td>Backup</td>\n",
       "      <td>Common</td>\n",
       "      <td>FFT</td>\n",
       "      <td>https://shop.tcgplayer.com/final-fantasy-tcg/d...</td>\n",
       "      <td>NaN</td>\n",
       "      <td>0.34</td>\n",
       "      <td>0.42</td>\n",
       "    </tr>\n",
       "    <tr>\n",
       "      <td>3</td>\n",
       "      <td>Normal</td>\n",
       "      <td>Water</td>\n",
       "      <td>Viking</td>\n",
       "      <td>2</td>\n",
       "      <td>Viking (Refia) - 1-167C</td>\n",
       "      <td>1-167C</td>\n",
       "      <td>When Viking enters the field, draw 1 card.\\r\\n...</td>\n",
       "      <td>Forward</td>\n",
       "      <td>Common</td>\n",
       "      <td>III</td>\n",
       "      <td>https://shop.tcgplayer.com/final-fantasy-tcg/d...</td>\n",
       "      <td>1000</td>\n",
       "      <td>0.65</td>\n",
       "      <td>0.60</td>\n",
       "    </tr>\n",
       "    <tr>\n",
       "      <td>4</td>\n",
       "      <td>Normal</td>\n",
       "      <td>Earth</td>\n",
       "      <td>Gunslinger</td>\n",
       "      <td>5</td>\n",
       "      <td>Vincent - 1-094R</td>\n",
       "      <td>1-094R</td>\n",
       "      <td>When Vincent attacks, Vincent gains First Stri...</td>\n",
       "      <td>Forward</td>\n",
       "      <td>Rare</td>\n",
       "      <td>VII</td>\n",
       "      <td>https://shop.tcgplayer.com/final-fantasy-tcg/d...</td>\n",
       "      <td>9000</td>\n",
       "      <td>0.43</td>\n",
       "      <td>0.43</td>\n",
       "    </tr>\n",
       "    <tr>\n",
       "      <td>5</td>\n",
       "      <td>Normal</td>\n",
       "      <td>Fire</td>\n",
       "      <td>Black Mage</td>\n",
       "      <td>3</td>\n",
       "      <td>Vivi - 3-017L</td>\n",
       "      <td>3-017L</td>\n",
       "      <td>When Vivi enters the field, choose 1 Forward o...</td>\n",
       "      <td>Forward</td>\n",
       "      <td>Legend</td>\n",
       "      <td>IX</td>\n",
       "      <td>https://shop.tcgplayer.com/final-fantasy-tcg/d...</td>\n",
       "      <td>4000</td>\n",
       "      <td>1.15</td>\n",
       "      <td>1.25</td>\n",
       "    </tr>\n",
       "    <tr>\n",
       "      <td>6</td>\n",
       "      <td>Normal</td>\n",
       "      <td>Wind</td>\n",
       "      <td>Standard Unit</td>\n",
       "      <td>3</td>\n",
       "      <td>White Mage - 2-058C</td>\n",
       "      <td>2-058C</td>\n",
       "      <td>When White Mage enters the field, choose up to...</td>\n",
       "      <td>Backup</td>\n",
       "      <td>Common</td>\n",
       "      <td>XIV</td>\n",
       "      <td>https://shop.tcgplayer.com/final-fantasy-tcg/d...</td>\n",
       "      <td>NaN</td>\n",
       "      <td>0.54</td>\n",
       "      <td>0.64</td>\n",
       "    </tr>\n",
       "  </tbody>\n",
       "</table>\n",
       "</div>"
      ],
      "text/plain": [
       "  Card Material    Element            Job Cost  \\\n",
       "0        Normal        NaN            NaN  NaN   \n",
       "1        Normal        Ice  Standard Unit    1   \n",
       "2        Normal  Lightning  Standard Unit    1   \n",
       "3        Normal      Water         Viking    2   \n",
       "4        Normal      Earth     Gunslinger    5   \n",
       "5        Normal       Fire     Black Mage    3   \n",
       "6        Normal       Wind  Standard Unit    3   \n",
       "\n",
       "                              Name  Number  \\\n",
       "0              Steiner EX - 3-137R  3-137R   \n",
       "1  Summoner (Female Unit) - 1-040C  1-040C   \n",
       "2    Summoner (Male Unit) - 1-138C  1-138C   \n",
       "3          Viking (Refia) - 1-167C  1-167C   \n",
       "4                 Vincent - 1-094R  1-094R   \n",
       "5                    Vivi - 3-017L  3-017L   \n",
       "6              White Mage - 2-058C  2-058C   \n",
       "\n",
       "                                         Description Card Type  Rarity  \\\n",
       "0  EX BURST When Steiner enters the field, you ma...       NaN    Rare   \n",
       "1  This card was reprinted with a new formatted s...    Backup  Common   \n",
       "2  This card was reprinted with a new formatted s...    Backup  Common   \n",
       "3  When Viking enters the field, draw 1 card.\\r\\n...   Forward  Common   \n",
       "4  When Vincent attacks, Vincent gains First Stri...   Forward    Rare   \n",
       "5  When Vivi enters the field, choose 1 Forward o...   Forward  Legend   \n",
       "6  When White Mage enters the field, choose up to...    Backup  Common   \n",
       "\n",
       "  Category                                                URL Power   TCG  \\\n",
       "0      NaN  https://shop.tcgplayer.com/final-fantasy-tcg/d...   NaN  0.25   \n",
       "1      FFT  https://shop.tcgplayer.com/final-fantasy-tcg/d...   NaN  0.65   \n",
       "2      FFT  https://shop.tcgplayer.com/final-fantasy-tcg/d...   NaN  0.34   \n",
       "3      III  https://shop.tcgplayer.com/final-fantasy-tcg/d...  1000  0.65   \n",
       "4      VII  https://shop.tcgplayer.com/final-fantasy-tcg/d...  9000  0.43   \n",
       "5       IX  https://shop.tcgplayer.com/final-fantasy-tcg/d...  4000  1.15   \n",
       "6      XIV  https://shop.tcgplayer.com/final-fantasy-tcg/d...   NaN  0.54   \n",
       "\n",
       "  Median  \n",
       "0   0.25  \n",
       "1   0.65  \n",
       "2   0.42  \n",
       "3   0.60  \n",
       "4   0.43  \n",
       "5   1.25  \n",
       "6   0.64  "
      ]
     },
     "execution_count": 180,
     "metadata": {},
     "output_type": "execute_result"
    }
   ],
   "source": [
    "# scrape_card_data called here (test only small number of rows)\n",
    "card_df = scrape_card_data(url_df.iloc[-7:])\n",
    "\n",
    "# card_df = card_df.rename(columns={'TCGNormal':'TCG0','TCGFoil':'TCG1','MedianNormal':'Median0','MedianFoil':'Median1'})\n",
    "card_df.head(10)\n",
    "\n"
   ]
  },
  {
   "cell_type": "code",
   "execution_count": 177,
   "metadata": {},
   "outputs": [
    {
     "data": {
      "text/plain": [
       "defaultdict(str,\n",
       "            {'Price': '0.34',\n",
       "             'TCG Normal': '0.25',\n",
       "             'TCG Foil': '0.50',\n",
       "             'Median Normal': '0.25',\n",
       "             'Median Foil': '0.41'})"
      ]
     },
     "execution_count": 177,
     "metadata": {},
     "output_type": "execute_result"
    }
   ],
   "source": [
    "# Test scrape of price\n",
    "\n",
    "# response = requests.get(url_df['url_inputs'][0])\n",
    "response = requests.get(\"https://shop.tcgplayer.com/final-fantasy-tcg/deck-exclusive-cards/steiner-ex-3-137r\")\n",
    "if response.status_code == 200:\n",
    "    page = response.text\n",
    "    soup = BeautifulSoup(page)\n",
    "\n",
    "mkt_price_table = soup.find('div',class_=\"price-point price-point--market\").table\n",
    "mid_price_table = soup.find('div',class_=\"price-point price-point--listed-median\").table\n",
    "\n",
    "for i in range(len(mkt_price_table.find_all('td'))):\n",
    "    data = mkt_price_table.find_all('td')\n",
    "    headers = mkt_price_table.find_all('th')[1:]\n",
    "    var_name = \"TCG \" + headers[i].get_text()\n",
    "    mydict[var_name] = data[i].get_text().strip(\"$\")\n",
    "\n",
    "for i in range(len(mid_price_table.find_all('td'))):\n",
    "    data = mid_price_table.find_all('td')\n",
    "    headers = mid_price_table.find_all('th')[1:]\n",
    "    var_name = \"Median \" + headers[i].get_text()\n",
    "    mydict[var_name] = data[i].get_text().strip(\"$\")\n",
    "\n",
    "mydict"
   ]
  }
 ],
 "metadata": {
  "kernelspec": {
   "display_name": "Python 3",
   "language": "python",
   "name": "python3"
  },
  "language_info": {
   "codemirror_mode": {
    "name": "ipython",
    "version": 3
   },
   "file_extension": ".py",
   "mimetype": "text/x-python",
   "name": "python",
   "nbconvert_exporter": "python",
   "pygments_lexer": "ipython3",
   "version": "3.7.4"
  }
 },
 "nbformat": 4,
 "nbformat_minor": 2
}
